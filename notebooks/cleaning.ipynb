{
 "cells": [
  {
   "cell_type": "markdown",
   "metadata": {
    "application/vnd.databricks.v1+cell": {
     "cellMetadata": {
      "byteLimit": 2048000,
      "rowLimit": 10000
     },
     "inputWidgets": {},
     "nuid": "76960852-d872-4aaa-85ff-8f4ab5839a51",
     "showTitle": false,
     "title": ""
    }
   },
   "source": [
    "#### **This Notebook is to perform cleaning functions to all the csv files made from the Models Cars Data **"
   ]
  },
  {
   "cell_type": "markdown",
   "metadata": {
    "application/vnd.databricks.v1+cell": {
     "cellMetadata": {
      "byteLimit": 2048000,
      "rowLimit": 10000
     },
     "inputWidgets": {},
     "nuid": "e54682a8-4fa7-4981-bc5f-8abbd4f0dc74",
     "showTitle": false,
     "title": ""
    }
   },
   "source": [
    "#### **install profiler to have a great understanding of the data**"
   ]
  },
  {
   "cell_type": "code",
   "execution_count": 0,
   "metadata": {
    "application/vnd.databricks.v1+cell": {
     "cellMetadata": {
      "byteLimit": 2048000,
      "rowLimit": 10000
     },
     "inputWidgets": {},
     "nuid": "d0b61214-16db-4500-8004-4711b41cabd7",
     "showTitle": false,
     "title": ""
    }
   },
   "outputs": [
    {
     "output_type": "stream",
     "name": "stdout",
     "output_type": "stream",
     "text": [
      "Requirement already satisfied: sweetviz in /local_disk0/.ephemeral_nfs/envs/pythonEnv-805271c5-774d-4a8f-9f4f-a961cb3828f0/lib/python3.11/site-packages (2.3.1)\nRequirement already satisfied: pandas!=1.0.0,!=1.0.1,!=1.0.2,>=0.25.3 in /databricks/python3/lib/python3.11/site-packages (from sweetviz) (1.5.3)\nRequirement already satisfied: numpy>=1.16.0 in /databricks/python3/lib/python3.11/site-packages (from sweetviz) (1.23.5)\nRequirement already satisfied: matplotlib>=3.1.3 in /databricks/python3/lib/python3.11/site-packages (from sweetviz) (3.7.2)\nRequirement already satisfied: tqdm>=4.43.0 in /databricks/python3/lib/python3.11/site-packages (from sweetviz) (4.65.0)\nRequirement already satisfied: scipy>=1.3.2 in /databricks/python3/lib/python3.11/site-packages (from sweetviz) (1.11.1)\nRequirement already satisfied: jinja2>=2.11.1 in /databricks/python3/lib/python3.11/site-packages (from sweetviz) (3.1.2)\nRequirement already satisfied: importlib-resources>=1.2.0 in /databricks/python3/lib/python3.11/site-packages (from sweetviz) (6.4.0)\nRequirement already satisfied: MarkupSafe>=2.0 in /databricks/python3/lib/python3.11/site-packages (from jinja2>=2.11.1->sweetviz) (2.1.1)\nRequirement already satisfied: contourpy>=1.0.1 in /databricks/python3/lib/python3.11/site-packages (from matplotlib>=3.1.3->sweetviz) (1.0.5)\nRequirement already satisfied: cycler>=0.10 in /databricks/python3/lib/python3.11/site-packages (from matplotlib>=3.1.3->sweetviz) (0.11.0)\nRequirement already satisfied: fonttools>=4.22.0 in /databricks/python3/lib/python3.11/site-packages (from matplotlib>=3.1.3->sweetviz) (4.25.0)\nRequirement already satisfied: kiwisolver>=1.0.1 in /databricks/python3/lib/python3.11/site-packages (from matplotlib>=3.1.3->sweetviz) (1.4.4)\nRequirement already satisfied: packaging>=20.0 in /databricks/python3/lib/python3.11/site-packages (from matplotlib>=3.1.3->sweetviz) (23.2)\nRequirement already satisfied: pillow>=6.2.0 in /databricks/python3/lib/python3.11/site-packages (from matplotlib>=3.1.3->sweetviz) (9.4.0)\nRequirement already satisfied: pyparsing<3.1,>=2.3.1 in /databricks/python3/lib/python3.11/site-packages (from matplotlib>=3.1.3->sweetviz) (3.0.9)\nRequirement already satisfied: python-dateutil>=2.7 in /databricks/python3/lib/python3.11/site-packages (from matplotlib>=3.1.3->sweetviz) (2.8.2)\nRequirement already satisfied: pytz>=2020.1 in /databricks/python3/lib/python3.11/site-packages (from pandas!=1.0.0,!=1.0.1,!=1.0.2,>=0.25.3->sweetviz) (2022.7)\nRequirement already satisfied: six>=1.5 in /usr/lib/python3/dist-packages (from python-dateutil>=2.7->matplotlib>=3.1.3->sweetviz) (1.16.0)\n\u001B[43mNote: you may need to restart the kernel using %restart_python or dbutils.library.restartPython() to use updated packages.\u001B[0m\n"
     ]
    }
   ],
   "source": [
    "%pip install sweetviz\n",
    "%restart_python"
   ]
  },
  {
   "cell_type": "markdown",
   "metadata": {
    "application/vnd.databricks.v1+cell": {
     "cellMetadata": {
      "byteLimit": 2048000,
      "rowLimit": 10000
     },
     "inputWidgets": {},
     "nuid": "87dcec01-81db-499e-9244-efef902315f5",
     "showTitle": false,
     "title": ""
    }
   },
   "source": [
    "#### **Import libraries**"
   ]
  },
  {
   "cell_type": "code",
   "execution_count": 0,
   "metadata": {
    "application/vnd.databricks.v1+cell": {
     "cellMetadata": {
      "byteLimit": 2048000,
      "rowLimit": 10000
     },
     "inputWidgets": {},
     "nuid": "4d019be0-19b2-4e83-b93f-3672b29e8d10",
     "showTitle": false,
     "title": ""
    }
   },
   "outputs": [],
   "source": [
    "import pandas as pd\n",
    "from pyspark.sql import SparkSession\n",
    "from pyspark.sql.functions import col, regexp_replace\n",
    "import pyspark.sql.functions as F\n",
    "from pyspark.sql.types import StringType\n",
    "import sweetviz as sv"
   ]
  },
  {
   "cell_type": "code",
   "execution_count": 0,
   "metadata": {
    "application/vnd.databricks.v1+cell": {
     "cellMetadata": {
      "byteLimit": 2048000,
      "rowLimit": 10000
     },
     "inputWidgets": {},
     "nuid": "f2fa9bf4-b570-4935-87be-7775612c2b6a",
     "showTitle": false,
     "title": ""
    }
   },
   "outputs": [],
   "source": [
    "\n",
    "# Create Spark session\n",
    "spark = SparkSession.builder \\\n",
    "    .master(\"local\") \\\n",
    "    .appName(\"Data Cleaning and Ingestion\") \\\n",
    "    .getOrCreate()\n",
    "\n",
    "def load_data(path):\n",
    "    df = spark.read.csv(path, header=True, inferSchema=True)\n",
    "    # df.show(10)\n",
    "    # df.printSchema()\n",
    "    return df\n",
    "\n",
    "def to_pandas(spark_df):\n",
    "    pandas_df = spark_df.toPandas()\n",
    "    return pandas_df\n",
    "\n"
   ]
  },
  {
   "cell_type": "code",
   "execution_count": 0,
   "metadata": {
    "application/vnd.databricks.v1+cell": {
     "cellMetadata": {
      "byteLimit": 2048000,
      "rowLimit": 10000
     },
     "inputWidgets": {},
     "nuid": "8bb18e01-777e-4825-b344-b386fc93f838",
     "showTitle": false,
     "title": ""
    }
   },
   "outputs": [
    {
     "output_type": "display_data",
     "data": {
      "text/html": [
       "<style scoped>\n",
       "  .table-result-container {\n",
       "    max-height: 300px;\n",
       "    overflow: auto;\n",
       "  }\n",
       "  table, th, td {\n",
       "    border: 1px solid black;\n",
       "    border-collapse: collapse;\n",
       "  }\n",
       "  th, td {\n",
       "    padding: 5px;\n",
       "  }\n",
       "  th {\n",
       "    text-align: left;\n",
       "  }\n",
       "</style><div class='table-result-container'><table class='table-result'><thead style='background-color: white'><tr><th>path</th><th>name</th><th>size</th><th>modificationTime</th></tr></thead><tbody><tr><td>dbfs:/tmp/cleaned_customers.csv</td><td>cleaned_customers.csv</td><td>11756</td><td>1728725311441</td></tr><tr><td>dbfs:/tmp/cleaned_employees.csv</td><td>cleaned_employees.csv</td><td>1781</td><td>1728725310472</td></tr><tr><td>dbfs:/tmp/cleaned_offices.csv</td><td>cleaned_offices.csv</td><td>597</td><td>1728725313181</td></tr><tr><td>dbfs:/tmp/cleaned_orderdetails.csv</td><td>cleaned_orderdetails.csv</td><td>2728</td><td>1728725317407</td></tr><tr><td>dbfs:/tmp/cleaned_orders.csv</td><td>cleaned_orders.csv</td><td>7592</td><td>1728725315808</td></tr><tr><td>dbfs:/tmp/cleaned_payments.csv</td><td>cleaned_payments.csv</td><td>3315</td><td>1728725312355</td></tr><tr><td>dbfs:/tmp/cleaned_productlines.csv</td><td>cleaned_productlines.csv</td><td>3474</td><td>1728725314014</td></tr><tr><td>dbfs:/tmp/cleaned_products.csv</td><td>cleaned_products.csv</td><td>27666</td><td>1728725314885</td></tr><tr><td>dbfs:/tmp/cleaned_warehouses.csv</td><td>cleaned_warehouses.csv</td><td>86</td><td>1728725316596</td></tr><tr><td>dbfs:/tmp/customers.csv</td><td>customers.csv</td><td>11446</td><td>1728405968451</td></tr><tr><td>dbfs:/tmp/employees.csv</td><td>employees.csv</td><td>1737</td><td>1728405969630</td></tr><tr><td>dbfs:/tmp/offices.csv</td><td>offices.csv</td><td>585</td><td>1728405970419</td></tr><tr><td>dbfs:/tmp/orderdetails.csv</td><td>orderdetails.csv</td><td>2746</td><td>1728405971307</td></tr><tr><td>dbfs:/tmp/orders.csv</td><td>orders.csv</td><td>7280</td><td>1728405972181</td></tr><tr><td>dbfs:/tmp/payments.csv</td><td>payments.csv</td><td>3327</td><td>1728405972893</td></tr><tr><td>dbfs:/tmp/productlines.csv</td><td>productlines.csv</td><td>3446</td><td>1728405973676</td></tr><tr><td>dbfs:/tmp/products.csv</td><td>products.csv</td><td>27620</td><td>1728405974476</td></tr><tr><td>dbfs:/tmp/warehouses.csv</td><td>warehouses.csv</td><td>86</td><td>1728405975218</td></tr></tbody></table></div>"
      ]
     },
     "metadata": {
      "application/vnd.databricks.v1+output": {
       "addedWidgets": {},
       "aggData": [],
       "aggError": "",
       "aggOverflow": false,
       "aggSchema": [],
       "aggSeriesLimitReached": false,
       "aggType": "",
       "arguments": {},
       "columnCustomDisplayInfos": {},
       "data": [
        [
         "dbfs:/tmp/cleaned_customers.csv",
         "cleaned_customers.csv",
         11756,
         1728725311441
        ],
        [
         "dbfs:/tmp/cleaned_employees.csv",
         "cleaned_employees.csv",
         1781,
         1728725310472
        ],
        [
         "dbfs:/tmp/cleaned_offices.csv",
         "cleaned_offices.csv",
         597,
         1728725313181
        ],
        [
         "dbfs:/tmp/cleaned_orderdetails.csv",
         "cleaned_orderdetails.csv",
         2728,
         1728725317407
        ],
        [
         "dbfs:/tmp/cleaned_orders.csv",
         "cleaned_orders.csv",
         7592,
         1728725315808
        ],
        [
         "dbfs:/tmp/cleaned_payments.csv",
         "cleaned_payments.csv",
         3315,
         1728725312355
        ],
        [
         "dbfs:/tmp/cleaned_productlines.csv",
         "cleaned_productlines.csv",
         3474,
         1728725314014
        ],
        [
         "dbfs:/tmp/cleaned_products.csv",
         "cleaned_products.csv",
         27666,
         1728725314885
        ],
        [
         "dbfs:/tmp/cleaned_warehouses.csv",
         "cleaned_warehouses.csv",
         86,
         1728725316596
        ],
        [
         "dbfs:/tmp/customers.csv",
         "customers.csv",
         11446,
         1728405968451
        ],
        [
         "dbfs:/tmp/employees.csv",
         "employees.csv",
         1737,
         1728405969630
        ],
        [
         "dbfs:/tmp/offices.csv",
         "offices.csv",
         585,
         1728405970419
        ],
        [
         "dbfs:/tmp/orderdetails.csv",
         "orderdetails.csv",
         2746,
         1728405971307
        ],
        [
         "dbfs:/tmp/orders.csv",
         "orders.csv",
         7280,
         1728405972181
        ],
        [
         "dbfs:/tmp/payments.csv",
         "payments.csv",
         3327,
         1728405972893
        ],
        [
         "dbfs:/tmp/productlines.csv",
         "productlines.csv",
         3446,
         1728405973676
        ],
        [
         "dbfs:/tmp/products.csv",
         "products.csv",
         27620,
         1728405974476
        ],
        [
         "dbfs:/tmp/warehouses.csv",
         "warehouses.csv",
         86,
         1728405975218
        ]
       ],
       "datasetInfos": [],
       "dbfsResultPath": null,
       "isJsonSchema": true,
       "metadata": {
        "isDbfsCommandResult": false
       },
       "overflow": false,
       "plotOptions": {
        "customPlotOptions": {},
        "displayType": "table",
        "pivotAggregation": null,
        "pivotColumns": null,
        "xColumns": null,
        "yColumns": null
       },
       "removedWidgets": [],
       "schema": [
        {
         "metadata": "{}",
         "name": "path",
         "type": "\"string\""
        },
        {
         "metadata": "{}",
         "name": "name",
         "type": "\"string\""
        },
        {
         "metadata": "{}",
         "name": "size",
         "type": "\"long\""
        },
        {
         "metadata": "{}",
         "name": "modificationTime",
         "type": "\"long\""
        }
       ],
       "type": "table"
      }
     },
     "output_type": "display_data"
    }
   ],
   "source": [
    "%fs ls dbfs:/tmp"
   ]
  },
  {
   "cell_type": "code",
   "execution_count": 0,
   "metadata": {
    "application/vnd.databricks.v1+cell": {
     "cellMetadata": {
      "byteLimit": 2048000,
      "rowLimit": 10000
     },
     "inputWidgets": {},
     "nuid": "7fffdb24-5ffe-4e6e-a725-17b63ce43056",
     "showTitle": false,
     "title": ""
    }
   },
   "outputs": [],
   "source": [
    "TABLES = {\"customers\", \"employees\", \"offices\", \"orderdetails\", \"orders\", \"payments\", \"productlines\", \"products\", \"warehouses\"}\n",
    "for table in TABLES:\n",
    "    input_path = f\"dbfs:/tmp/{table}.csv\"\n",
    "    spark_df = load_data(input_path)\n",
    "    df = to_pandas(spark_df)\n",
    "    # print(f\"Analyzing Table: {table}\")\n",
    "    # report = sv.analyze(df)\n",
    "    # report.show_notebook()"
   ]
  },
  {
   "cell_type": "markdown",
   "metadata": {
    "application/vnd.databricks.v1+cell": {
     "cellMetadata": {
      "byteLimit": 2048000,
      "rowLimit": 10000
     },
     "inputWidgets": {},
     "nuid": "59916996-e1eb-4f74-92aa-ce1b3f9c5d9c",
     "showTitle": false,
     "title": ""
    }
   },
   "source": [
    "#### **Clean All Tables**"
   ]
  },
  {
   "cell_type": "code",
   "execution_count": 0,
   "metadata": {
    "application/vnd.databricks.v1+cell": {
     "cellMetadata": {
      "byteLimit": 2048000,
      "rowLimit": 10000
     },
     "inputWidgets": {},
     "nuid": "2440e60d-376e-4c5c-b8cb-361cf3442688",
     "showTitle": false,
     "title": ""
    }
   },
   "outputs": [],
   "source": [
    "# Define a mapping of SQL column types to Pandas data types for each table\n",
    "SCHEMA = {\n",
    "    \"customers\": {\n",
    "        \"customer_number\": \"int64\",\n",
    "        \"customer_name\": \"str\",\n",
    "        \"contact_last_name\": \"str\",\n",
    "        \"contact_first_name\": \"str\",\n",
    "        \"phone\": \"str\",\n",
    "        \"address_line1\": \"str\",\n",
    "        \"address_line2\": \"str\",\n",
    "        \"city\": \"str\",\n",
    "        \"state\": \"str\",\n",
    "        \"postal_code\": \"str\",\n",
    "        \"country\": \"str\",\n",
    "        \"sales_rep_employee_number\": \"float64\",  # Using float64 since it's INT in SQL but may contain NaN\n",
    "        \"credit_limit\": \"float64\"\n",
    "    },\n",
    "    \"employees\": {\n",
    "        \"employee_number\": \"float64\",\n",
    "        \"last_name\": \"str\",\n",
    "        \"first_name\": \"str\",\n",
    "        \"extension\": \"str\",\n",
    "        \"email\": \"str\",\n",
    "        \"office_code\": \"str\",\n",
    "        \"reports_to\": \"float64\",\n",
    "        \"job_title\": \"str\"\n",
    "    },\n",
    "    \"offices\": {\n",
    "        \"office_code\": \"str\",\n",
    "        \"city\": \"str\",\n",
    "        \"phone\": \"str\",\n",
    "        \"address_line1\": \"str\",\n",
    "        \"address_line2\": \"str\",\n",
    "        \"state\": \"str\",\n",
    "        \"country\": \"str\",\n",
    "        \"postal_code\": \"str\",\n",
    "        \"territory\": \"str\"\n",
    "    },\n",
    "    \"orderdetails\": {\n",
    "        \"order_number\": \"int64\",\n",
    "        \"product_code\": \"str\",\n",
    "        \"quantity_ordered\": \"int64\",\n",
    "        \"price_each\": \"float64\",\n",
    "        \"orderline_number\": \"int64\"\n",
    "    },\n",
    "    \"orders\": {\n",
    "        \"order_number\": \"int64\",\n",
    "        \"order_date\": \"datetime64\",\n",
    "        \"required_date\": \"datetime64\",\n",
    "        \"shipped_date\": \"datetime64\",\n",
    "        \"status\": \"str\",\n",
    "        \"comments\": \"str\",\n",
    "        \"customer_number\": \"int64\"\n",
    "    },\n",
    "    \"payments\": {\n",
    "        \"customer_number\": \"int64\",\n",
    "        \"check_number\": \"str\",\n",
    "        \"payment_date\": \"datetime64\",\n",
    "        \"amount\": \"float64\"\n",
    "    },\n",
    "    \"productlines\": {\n",
    "        \"product_line\": \"str\",\n",
    "        \"text_description\": \"str\",\n",
    "        \"html_description\": \"str\",\n",
    "        \"image\": \"str\"\n",
    "    },\n",
    "    \"products\": {\n",
    "        \"product_code\": \"str\",\n",
    "        \"product_name\": \"str\",\n",
    "        \"product_line\": \"str\",\n",
    "        \"product_scale\": \"str\",\n",
    "        \"product_vendor\": \"str\",\n",
    "        \"product_description\": \"str\",\n",
    "        \"quantity_instock\": \"int64\",\n",
    "        \"warehouse_code\": \"str\",\n",
    "        \"buy_price\": \"float64\",\n",
    "        \"msrp\": \"float64\"\n",
    "    },\n",
    "    \"warehouses\": {\n",
    "        \"warehouse_code\": \"str\",\n",
    "        \"warehouse_name\": \"str\",\n",
    "        \"warehousepctcap\": \"float64\"\n",
    "    }\n",
    "}\n",
    "\n",
    "def validate_data_types(df, table_name):\n",
    "    \"\"\"\n",
    "    Validates the data types of a DataFrame's columns based on the schema defined for the table.\n",
    "    \n",
    "    Args:\n",
    "        df (pd.DataFrame): The DataFrame to validate.\n",
    "        table_name (str): The name of the table.\n",
    "    \n",
    "    Returns:\n",
    "        pd.DataFrame: DataFrame with coerced data types.\n",
    "    \"\"\"\n",
    "    if table_name not in SCHEMA:\n",
    "        raise ValueError(f\"Schema for table '{table_name}' not found.\")\n",
    "    \n",
    "    schema = SCHEMA[table_name]\n",
    "    \n",
    "    for column, expected_dtype in schema.items():\n",
    "        if column in df.columns:\n",
    "            print(f\"Validating column {column} for table {table_name} (expected: {expected_dtype})\")\n",
    "            try:\n",
    "                # Handle datetime columns\n",
    "                if expected_dtype.startswith(\"datetime\"):\n",
    "                    df[column] = pd.to_datetime(df[column], errors='coerce')\n",
    "                # Handle numeric columns\n",
    "                elif expected_dtype.startswith(\"float\") or expected_dtype.startswith(\"int\"):\n",
    "                    df[column] = pd.to_numeric(df[column], errors='coerce')\n",
    "                # For strings, ensure the type is string\n",
    "                elif expected_dtype == \"str\":\n",
    "                    df[column] = df[column].astype(str)\n",
    "            except Exception as e:\n",
    "                print(f\"Error validating column {column}: {e}\")\n",
    "    \n",
    "    return df\n"
   ]
  },
  {
   "cell_type": "code",
   "execution_count": 0,
   "metadata": {
    "application/vnd.databricks.v1+cell": {
     "cellMetadata": {
      "byteLimit": 2048000,
      "rowLimit": 10000
     },
     "inputWidgets": {},
     "nuid": "20b09f35-87b9-41da-bb2d-fe3724632afd",
     "showTitle": false,
     "title": ""
    }
   },
   "outputs": [],
   "source": [
    "# Function to clean and validate each table\n",
    "def clean_and_validate(df, table_name):\n",
    "    \"\"\"\n",
    "    Cleans and validates a DataFrame based on the table schema.\n",
    "    \n",
    "    Args:\n",
    "        df (pd.DataFrame): The DataFrame to clean and validate.\n",
    "        table_name (str): The name of the table.\n",
    "    \n",
    "    Returns:\n",
    "        pd.DataFrame: Cleaned and validated DataFrame.\n",
    "    \"\"\"\n",
    "    # Remove duplicates\n",
    "    df = df.drop_duplicates()\n",
    "    \n",
    "    # Validate data types\n",
    "    df = validate_data_types(df, table_name)\n",
    "    \n",
    "    # Handle missing values (optional, customize based on table/column)\n",
    "    df = df.dropna(how='all')  # Drop rows where all columns are NaN\n",
    "    df = df.fillna(value=\"\")   # Example: Fill NaNs with empty strings or default values\n",
    "    \n",
    "    return df\n",
    "\n",
    "# Example of how to use this for one of the tables\n",
    "# Assuming df is your DataFrame for 'customers'\n",
    "# df_cleaned = clean_and_validate(df, 'customers')"
   ]
  },
  {
   "cell_type": "markdown",
   "metadata": {
    "application/vnd.databricks.v1+cell": {
     "cellMetadata": {},
     "inputWidgets": {},
     "nuid": "085a83ba-ffc1-4bb7-8002-faa51896e17f",
     "showTitle": false,
     "title": ""
    }
   },
   "source": [
    "#### **Save data into temp_cleaned**"
   ]
  },
  {
   "cell_type": "code",
   "execution_count": 0,
   "metadata": {
    "application/vnd.databricks.v1+cell": {
     "cellMetadata": {
      "byteLimit": 2048000,
      "rowLimit": 10000
     },
     "inputWidgets": {},
     "nuid": "821ee752-680d-40c8-8ff4-cc3425212968",
     "showTitle": false,
     "title": ""
    }
   },
   "outputs": [],
   "source": [
    "import os\n",
    "\n",
    "# Function to save the cleaned data to DBFS\n",
    "def save_cleaned_data(df, output_path):\n",
    "    \"\"\"\n",
    "    Saves the cleaned data to the specified DBFS path.\n",
    "    \n",
    "    Args:\n",
    "        df (pd.DataFrame): The DataFrame to save.\n",
    "        output_path (str): The path in DBFS to save the cleaned DataFrame.\n",
    "    \"\"\"\n",
    "    # Step 1: Save to a local temporary path\n",
    "    local_path = \"/tmp/cleaned_temp.csv\"\n",
    "    df.to_csv(local_path, index=False)\n",
    "    \n",
    "    # Step 2: Move the local file to DBFS\n",
    "    dbutils.fs.cp(f\"file:{local_path}\", output_path)\n",
    "    print(f\"Cleaned data saved to {output_path} in DBFS.\")"
   ]
  },
  {
   "cell_type": "code",
   "execution_count": 0,
   "metadata": {
    "application/vnd.databricks.v1+cell": {
     "cellMetadata": {
      "byteLimit": 2048000,
      "rowLimit": 10000
     },
     "inputWidgets": {},
     "nuid": "ded1251b-e8a5-4be3-b2c1-d16234b90163",
     "showTitle": false,
     "title": ""
    }
   },
   "outputs": [
    {
     "output_type": "stream",
     "name": "stdout",
     "output_type": "stream",
     "text": [
      "Loading data for employees from dbfs:/tmp/employees.csv...\nAnalyzing and cleaning Table: employees\nValidating column extension for table employees (expected: str)\nValidating column email for table employees (expected: str)\nCleaned data saved to dbfs:/tmp/cleaned_employees.csv in DBFS.\nCleaned data for employees saved to dbfs:/tmp/cleaned_employees.csv.\nLoading data for customers from dbfs:/tmp/customers.csv...\nAnalyzing and cleaning Table: customers\nValidating column phone for table customers (expected: str)\nValidating column city for table customers (expected: str)\nValidating column state for table customers (expected: str)\nValidating column country for table customers (expected: str)\nCleaned data saved to dbfs:/tmp/cleaned_customers.csv in DBFS.\nCleaned data for customers saved to dbfs:/tmp/cleaned_customers.csv.\nLoading data for payments from dbfs:/tmp/payments.csv...\nAnalyzing and cleaning Table: payments\nValidating column amount for table payments (expected: float64)\nCleaned data saved to dbfs:/tmp/cleaned_payments.csv in DBFS.\nCleaned data for payments saved to dbfs:/tmp/cleaned_payments.csv.\nLoading data for offices from dbfs:/tmp/offices.csv...\nAnalyzing and cleaning Table: offices\nValidating column city for table offices (expected: str)\nValidating column phone for table offices (expected: str)\nValidating column state for table offices (expected: str)\nValidating column country for table offices (expected: str)\nValidating column territory for table offices (expected: str)\nCleaned data saved to dbfs:/tmp/cleaned_offices.csv in DBFS.\nCleaned data for offices saved to dbfs:/tmp/cleaned_offices.csv.\nLoading data for productlines from dbfs:/tmp/productlines.csv...\nAnalyzing and cleaning Table: productlines\nValidating column image for table productlines (expected: str)\nCleaned data saved to dbfs:/tmp/cleaned_productlines.csv in DBFS.\nCleaned data for productlines saved to dbfs:/tmp/cleaned_productlines.csv.\nLoading data for products from dbfs:/tmp/products.csv...\nAnalyzing and cleaning Table: products\nCleaned data saved to dbfs:/tmp/cleaned_products.csv in DBFS.\nCleaned data for products saved to dbfs:/tmp/cleaned_products.csv.\nLoading data for orders from dbfs:/tmp/orders.csv...\nAnalyzing and cleaning Table: orders\nValidating column status for table orders (expected: str)\nValidating column comments for table orders (expected: str)\nCleaned data saved to dbfs:/tmp/cleaned_orders.csv in DBFS.\nCleaned data for orders saved to dbfs:/tmp/cleaned_orders.csv.\nLoading data for warehouses from dbfs:/tmp/warehouses.csv...\nAnalyzing and cleaning Table: warehouses\nCleaned data saved to dbfs:/tmp/cleaned_warehouses.csv in DBFS.\nCleaned data for warehouses saved to dbfs:/tmp/cleaned_warehouses.csv.\nLoading data for orderdetails from dbfs:/tmp/orderdetails.csv...\nAnalyzing and cleaning Table: orderdetails\nCleaned data saved to dbfs:/tmp/cleaned_orderdetails.csv in DBFS.\nCleaned data for orderdetails saved to dbfs:/tmp/cleaned_orderdetails.csv.\n"
     ]
    }
   ],
   "source": [
    "# Main function to run the data cleaning pipeline\n",
    "def run_data_pipeline():\n",
    "    for table in TABLES:\n",
    "        input_path = f\"dbfs:/tmp/{table}.csv\"\n",
    "        output_path = f\"dbfs:/tmp/cleaned_{table}.csv\"\n",
    "        \n",
    "        # Load data from DBFS\n",
    "        print(f\"Loading data for {table} from {input_path}...\")\n",
    "        spark_df = load_data(input_path)\n",
    "        df = to_pandas(spark_df)\n",
    "        \n",
    "        # Clean and validate the data\n",
    "        print(f\"Analyzing and cleaning Table: {table}\")\n",
    "        df_cleaned = clean_and_validate(df, table)\n",
    "        \n",
    "        # Save the cleaned data back to DBFS\n",
    "        save_cleaned_data(df_cleaned, output_path)\n",
    "        print(f\"Cleaned data for {table} saved to {output_path}.\")\n",
    "\n",
    "# Run the data pipeline\n",
    "run_data_pipeline()"
   ]
  }
 ],
 "metadata": {
  "application/vnd.databricks.v1+notebook": {
   "dashboards": [],
   "environmentMetadata": null,
   "language": "python",
   "notebookMetadata": {
    "mostRecentlyExecutedCommandWithImplicitDF": {
     "commandId": 3571877541319236,
     "dataframes": [
      "_sqldf"
     ]
    },
    "pythonIndentUnit": 4
   },
   "notebookName": "cleaning",
   "widgets": {}
  }
 },
 "nbformat": 4,
 "nbformat_minor": 0
}
